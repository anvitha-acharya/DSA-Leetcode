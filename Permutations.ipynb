class Solution(object):
    def permute(self, nums):
        """
        :type nums: List[int]
        :rtype: List[List[int]]
        """
        def backtrack(current_permutation):
            # Base case: if current permutation is of length equal to nums, add to result
            if len(current_permutation) == len(nums):
                result.append(list(current_permutation))
                return
            
            # Iterate through each number in nums
            for num in nums:
                if num not in used:
                    # Choose
                    used.add(num)
                    current_permutation.append(num)
                    
                    # Explore
                    backtrack(current_permutation)
                    
                    # Un-choose
                    used.remove(num)
                    current_permutation.pop()
        
        result = []
        used = set()
        backtrack([])
        return result
