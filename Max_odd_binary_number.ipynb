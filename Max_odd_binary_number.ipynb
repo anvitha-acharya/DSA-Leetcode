class Solution(object):
    def maximumOddBinaryNumber(self, s):
        size= len(s)
        count_0=0
        count_1=0

        for i in range(size):
            if s[i] == '1':
                count_1+=1
            else:
                count_0+=1
        res=""
        for i in range(count_1-1):
            res+='1'
        for j in range(count_1,size):
            res+='0'
        res+='1'
        return res

        
