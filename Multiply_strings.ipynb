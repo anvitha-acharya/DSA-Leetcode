class Solution(object):
    def multiply(self, num1, num2):
        if num1 == "0" or num2 == "0":
            return "0"

        # Transform: Reverse the input strings to simplify the multiplication
        num1, num2 = num1[::-1], num2[::-1]
        
        # Create an array to hold the intermediate results
        res = [0] * (len(num1) + len(num2))

        # Conquer: Multiply each digit of the first number with each digit of the second number
        for i in range(len(num1)):
            for j in range(len(num2)):
                res[i + j] += int(num1[i]) * int(num2[j])
                res[i + j + 1] += res[i + j] // 10  # Handle carry over to the next digit
                res[i + j] %= 10  # Keep only the single digit
        
        # Remove leading zeros
        while len(res) > 1 and res[-1] == 0:
            res.pop()
        
        # Back Transformation: Convert the result array back to a string
        return ''.join(map(str, res[::-1]))

        
