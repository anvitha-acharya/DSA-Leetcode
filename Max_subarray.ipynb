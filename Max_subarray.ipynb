class Solution(object):
    def maxSubArray(self, nums):
        if len(nums) == 0:
            return 0
        
        def maxSubArrayHelper(nums, left, right):
            if left == right:
                return nums[left]
            
            mid = (left + right) // 2
            left_sum = maxSubArrayHelper(nums, left, mid)
            right_sum = maxSubArrayHelper(nums, mid + 1, right)
            cross_sum = cross_max(nums, left, right, mid)
            
            return max(left_sum, right_sum, cross_sum)
        
        def cross_max(nums, left, right, mid):
            if left == right:
                return nums[left]
            
            left_subsum = float('-inf')
            curr_sum = 0
            for i in range(mid, left - 1, -1):
                curr_sum += nums[i]
                left_subsum = max(left_subsum, curr_sum)
            
            right_subsum = float('-inf')
            curr_sum = 0
            for i in range(mid + 1, right + 1):
                curr_sum += nums[i]
                right_subsum = max(right_subsum, curr_sum)
            
            return left_subsum + right_subsum
        
        return maxSubArrayHelper(nums, 0, len(nums) - 1)

