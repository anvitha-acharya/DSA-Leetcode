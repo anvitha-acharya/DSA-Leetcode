class Solution(object):
    def combinationSum(self, candidates, target):
        """
        :type candidates: List[int]
        :type target: int
        :rtype: List[List[int]]
        """
        def backtrack(start, current_combination, current_sum):
            if current_sum == target:
                result.append(list(current_combination))
                return
            if current_sum > target:
                return
            
            for i in range(start, len(candidates)):
                # Add the number to the current combination
                current_combination.append(candidates[i])
                # Recur with updated sum
                backtrack(i, current_combination, current_sum + candidates[i])
                # Backtrack, remove the number from the current combination
                current_combination.pop()
        candidates.sort()
        result = []
        backtrack(0, [], 0)
        return result  
