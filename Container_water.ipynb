class Solution(object):
    def maxArea(self, height):
        max_area = 0
        left, right = 0, len(height) - 1
        
        while left < right:
            # Calculate current area
            current_area = min(height[left], height[right]) * (right - left)
            # Update max area if current area is larger
            max_area = max(max_area, current_area)
            
            # Move the pointer with smaller height towards the center
            if height[left] < height[right]:
                left += 1
            else:
                right -= 1
        
        return max_area
